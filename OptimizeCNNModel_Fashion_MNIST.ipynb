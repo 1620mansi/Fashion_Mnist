{
  "nbformat": 4,
  "nbformat_minor": 0,
  "metadata": {
    "colab": {
      "name": "OptimizeCNNModel Fashion MNIST.ipynb",
      "provenance": [],
      "collapsed_sections": []
    },
    "kernelspec": {
      "name": "python3",
      "display_name": "Python 3"
    },
    "language_info": {
      "name": "python"
    }
  },
  "cells": [
    {
      "cell_type": "markdown",
      "source": [
        "## Create CNN Model and Optimize it Using Keras Tuner "
      ],
      "metadata": {
        "id": "InQ8L6UqELSd"
      }
    },
    {
      "cell_type": "code",
      "source": [
        "!pip install keras-tuner \n",
        "#it decides how many layers, patterns we should use."
      ],
      "metadata": {
        "colab": {
          "base_uri": "https://localhost:8080/"
        },
        "id": "0mJm979WElJr",
        "outputId": "664ee659-ef06-4772-95f8-5d5afd5a82ce"
      },
      "execution_count": null,
      "outputs": [
        {
          "output_type": "stream",
          "name": "stdout",
          "text": [
            "Collecting keras-tuner\n",
            "  Downloading keras_tuner-1.1.0-py3-none-any.whl (98 kB)\n",
            "\u001b[?25l\r\u001b[K     |███▍                            | 10 kB 19.0 MB/s eta 0:00:01\r\u001b[K     |██████▊                         | 20 kB 17.6 MB/s eta 0:00:01\r\u001b[K     |██████████                      | 30 kB 8.5 MB/s eta 0:00:01\r\u001b[K     |█████████████▍                  | 40 kB 3.7 MB/s eta 0:00:01\r\u001b[K     |████████████████▊               | 51 kB 3.6 MB/s eta 0:00:01\r\u001b[K     |████████████████████            | 61 kB 4.3 MB/s eta 0:00:01\r\u001b[K     |███████████████████████▍        | 71 kB 4.5 MB/s eta 0:00:01\r\u001b[K     |██████████████████████████▊     | 81 kB 5.0 MB/s eta 0:00:01\r\u001b[K     |██████████████████████████████  | 92 kB 5.5 MB/s eta 0:00:01\r\u001b[K     |████████████████████████████████| 98 kB 3.1 MB/s \n",
            "\u001b[?25hRequirement already satisfied: ipython in /usr/local/lib/python3.7/dist-packages (from keras-tuner) (5.5.0)\n",
            "Requirement already satisfied: scipy in /usr/local/lib/python3.7/dist-packages (from keras-tuner) (1.4.1)\n",
            "Collecting kt-legacy\n",
            "  Downloading kt_legacy-1.0.4-py3-none-any.whl (9.6 kB)\n",
            "Requirement already satisfied: tensorboard in /usr/local/lib/python3.7/dist-packages (from keras-tuner) (2.8.0)\n",
            "Requirement already satisfied: numpy in /usr/local/lib/python3.7/dist-packages (from keras-tuner) (1.21.5)\n",
            "Requirement already satisfied: requests in /usr/local/lib/python3.7/dist-packages (from keras-tuner) (2.23.0)\n",
            "Requirement already satisfied: packaging in /usr/local/lib/python3.7/dist-packages (from keras-tuner) (21.3)\n",
            "Requirement already satisfied: traitlets>=4.2 in /usr/local/lib/python3.7/dist-packages (from ipython->keras-tuner) (5.1.1)\n",
            "Requirement already satisfied: pickleshare in /usr/local/lib/python3.7/dist-packages (from ipython->keras-tuner) (0.7.5)\n",
            "Requirement already satisfied: simplegeneric>0.8 in /usr/local/lib/python3.7/dist-packages (from ipython->keras-tuner) (0.8.1)\n",
            "Requirement already satisfied: decorator in /usr/local/lib/python3.7/dist-packages (from ipython->keras-tuner) (4.4.2)\n",
            "Requirement already satisfied: pygments in /usr/local/lib/python3.7/dist-packages (from ipython->keras-tuner) (2.6.1)\n",
            "Requirement already satisfied: setuptools>=18.5 in /usr/local/lib/python3.7/dist-packages (from ipython->keras-tuner) (57.4.0)\n",
            "Requirement already satisfied: prompt-toolkit<2.0.0,>=1.0.4 in /usr/local/lib/python3.7/dist-packages (from ipython->keras-tuner) (1.0.18)\n",
            "Requirement already satisfied: pexpect in /usr/local/lib/python3.7/dist-packages (from ipython->keras-tuner) (4.8.0)\n",
            "Requirement already satisfied: six>=1.9.0 in /usr/local/lib/python3.7/dist-packages (from prompt-toolkit<2.0.0,>=1.0.4->ipython->keras-tuner) (1.15.0)\n",
            "Requirement already satisfied: wcwidth in /usr/local/lib/python3.7/dist-packages (from prompt-toolkit<2.0.0,>=1.0.4->ipython->keras-tuner) (0.2.5)\n",
            "Requirement already satisfied: pyparsing!=3.0.5,>=2.0.2 in /usr/local/lib/python3.7/dist-packages (from packaging->keras-tuner) (3.0.7)\n",
            "Requirement already satisfied: ptyprocess>=0.5 in /usr/local/lib/python3.7/dist-packages (from pexpect->ipython->keras-tuner) (0.7.0)\n",
            "Requirement already satisfied: urllib3!=1.25.0,!=1.25.1,<1.26,>=1.21.1 in /usr/local/lib/python3.7/dist-packages (from requests->keras-tuner) (1.24.3)\n",
            "Requirement already satisfied: chardet<4,>=3.0.2 in /usr/local/lib/python3.7/dist-packages (from requests->keras-tuner) (3.0.4)\n",
            "Requirement already satisfied: certifi>=2017.4.17 in /usr/local/lib/python3.7/dist-packages (from requests->keras-tuner) (2021.10.8)\n",
            "Requirement already satisfied: idna<3,>=2.5 in /usr/local/lib/python3.7/dist-packages (from requests->keras-tuner) (2.10)\n",
            "Requirement already satisfied: google-auth<3,>=1.6.3 in /usr/local/lib/python3.7/dist-packages (from tensorboard->keras-tuner) (1.35.0)\n",
            "Requirement already satisfied: tensorboard-plugin-wit>=1.6.0 in /usr/local/lib/python3.7/dist-packages (from tensorboard->keras-tuner) (1.8.1)\n",
            "Requirement already satisfied: google-auth-oauthlib<0.5,>=0.4.1 in /usr/local/lib/python3.7/dist-packages (from tensorboard->keras-tuner) (0.4.6)\n",
            "Requirement already satisfied: grpcio>=1.24.3 in /usr/local/lib/python3.7/dist-packages (from tensorboard->keras-tuner) (1.44.0)\n",
            "Requirement already satisfied: protobuf>=3.6.0 in /usr/local/lib/python3.7/dist-packages (from tensorboard->keras-tuner) (3.17.3)\n",
            "Requirement already satisfied: absl-py>=0.4 in /usr/local/lib/python3.7/dist-packages (from tensorboard->keras-tuner) (1.0.0)\n",
            "Requirement already satisfied: markdown>=2.6.8 in /usr/local/lib/python3.7/dist-packages (from tensorboard->keras-tuner) (3.3.6)\n",
            "Requirement already satisfied: werkzeug>=0.11.15 in /usr/local/lib/python3.7/dist-packages (from tensorboard->keras-tuner) (1.0.1)\n",
            "Requirement already satisfied: wheel>=0.26 in /usr/local/lib/python3.7/dist-packages (from tensorboard->keras-tuner) (0.37.1)\n",
            "Requirement already satisfied: tensorboard-data-server<0.7.0,>=0.6.0 in /usr/local/lib/python3.7/dist-packages (from tensorboard->keras-tuner) (0.6.1)\n",
            "Requirement already satisfied: pyasn1-modules>=0.2.1 in /usr/local/lib/python3.7/dist-packages (from google-auth<3,>=1.6.3->tensorboard->keras-tuner) (0.2.8)\n",
            "Requirement already satisfied: rsa<5,>=3.1.4 in /usr/local/lib/python3.7/dist-packages (from google-auth<3,>=1.6.3->tensorboard->keras-tuner) (4.8)\n",
            "Requirement already satisfied: cachetools<5.0,>=2.0.0 in /usr/local/lib/python3.7/dist-packages (from google-auth<3,>=1.6.3->tensorboard->keras-tuner) (4.2.4)\n",
            "Requirement already satisfied: requests-oauthlib>=0.7.0 in /usr/local/lib/python3.7/dist-packages (from google-auth-oauthlib<0.5,>=0.4.1->tensorboard->keras-tuner) (1.3.1)\n",
            "Requirement already satisfied: importlib-metadata>=4.4 in /usr/local/lib/python3.7/dist-packages (from markdown>=2.6.8->tensorboard->keras-tuner) (4.11.1)\n",
            "Requirement already satisfied: zipp>=0.5 in /usr/local/lib/python3.7/dist-packages (from importlib-metadata>=4.4->markdown>=2.6.8->tensorboard->keras-tuner) (3.7.0)\n",
            "Requirement already satisfied: typing-extensions>=3.6.4 in /usr/local/lib/python3.7/dist-packages (from importlib-metadata>=4.4->markdown>=2.6.8->tensorboard->keras-tuner) (3.10.0.2)\n",
            "Requirement already satisfied: pyasn1<0.5.0,>=0.4.6 in /usr/local/lib/python3.7/dist-packages (from pyasn1-modules>=0.2.1->google-auth<3,>=1.6.3->tensorboard->keras-tuner) (0.4.8)\n",
            "Requirement already satisfied: oauthlib>=3.0.0 in /usr/local/lib/python3.7/dist-packages (from requests-oauthlib>=0.7.0->google-auth-oauthlib<0.5,>=0.4.1->tensorboard->keras-tuner) (3.2.0)\n",
            "Installing collected packages: kt-legacy, keras-tuner\n",
            "Successfully installed keras-tuner-1.1.0 kt-legacy-1.0.4\n"
          ]
        }
      ]
    },
    {
      "cell_type": "code",
      "source": [
        "import tensorflow as tf\n",
        "from tensorflow import keras\n",
        "import numpy as np\n",
        "import keras_tuner as kt\n",
        "import matplotlib.pyplot as plt\n",
        "import matplotlib.image as mpimg"
      ],
      "metadata": {
        "id": "Do3LuDcFEobs"
      },
      "execution_count": null,
      "outputs": []
    },
    {
      "cell_type": "code",
      "source": [
        "print(tf.__version__)"
      ],
      "metadata": {
        "colab": {
          "base_uri": "https://localhost:8080/"
        },
        "id": "evaclFHsE_m1",
        "outputId": "154849e4-9d41-4c40-ade3-7905546da76b"
      },
      "execution_count": null,
      "outputs": [
        {
          "output_type": "stream",
          "name": "stdout",
          "text": [
            "2.8.0\n"
          ]
        }
      ]
    },
    {
      "cell_type": "code",
      "source": [
        "fashion_mnist=keras.datasets.fashion_mnist"
      ],
      "metadata": {
        "id": "B4JSbWAOFDE1"
      },
      "execution_count": null,
      "outputs": []
    },
    {
      "cell_type": "code",
      "source": [
        "(train_images, train_labels),(test_images,test_labels)=fashion_mnist.load_data()"
      ],
      "metadata": {
        "colab": {
          "base_uri": "https://localhost:8080/"
        },
        "id": "mEZOReMRFapp",
        "outputId": "c15f362e-91d5-4d5a-be28-f6f4e02db014"
      },
      "execution_count": null,
      "outputs": [
        {
          "output_type": "stream",
          "name": "stdout",
          "text": [
            "Downloading data from https://storage.googleapis.com/tensorflow/tf-keras-datasets/train-labels-idx1-ubyte.gz\n",
            "32768/29515 [=================================] - 0s 0us/step\n",
            "40960/29515 [=========================================] - 0s 0us/step\n",
            "Downloading data from https://storage.googleapis.com/tensorflow/tf-keras-datasets/train-images-idx3-ubyte.gz\n",
            "26427392/26421880 [==============================] - 0s 0us/step\n",
            "26435584/26421880 [==============================] - 0s 0us/step\n",
            "Downloading data from https://storage.googleapis.com/tensorflow/tf-keras-datasets/t10k-labels-idx1-ubyte.gz\n",
            "16384/5148 [===============================================================================================] - 0s 0us/step\n",
            "Downloading data from https://storage.googleapis.com/tensorflow/tf-keras-datasets/t10k-images-idx3-ubyte.gz\n",
            "4423680/4422102 [==============================] - 0s 0us/step\n",
            "4431872/4422102 [==============================] - 0s 0us/step\n"
          ]
        }
      ]
    },
    {
      "cell_type": "code",
      "source": [
        "#scale down images(all the pixels between 0 to 1) helps to quickly train\n",
        "train_images = train_images/255.0\n",
        "test_images = test_images/255.0"
      ],
      "metadata": {
        "id": "y9-jptqzFe9m"
      },
      "execution_count": null,
      "outputs": []
    },
    {
      "cell_type": "code",
      "source": [
        "train_images[0].shape #size of 1st image"
      ],
      "metadata": {
        "colab": {
          "base_uri": "https://localhost:8080/"
        },
        "id": "yjrifFL3GNXV",
        "outputId": "64293c68-b3f3-4f81-dd3d-9b02171ff70e"
      },
      "execution_count": null,
      "outputs": [
        {
          "output_type": "execute_result",
          "data": {
            "text/plain": [
              "(28, 28)"
            ]
          },
          "metadata": {},
          "execution_count": 10
        }
      ]
    },
    {
      "cell_type": "code",
      "source": [
        "#In input we have to give how many no of images do we have, what is the pixel?, and their dimension in CNN model\n",
        "#resizing\n",
        "train_images = train_images.reshape(len(train_images),28,28,1)\n",
        "test_images = test_images.reshape(len(test_images),28,28,1)"
      ],
      "metadata": {
        "id": "MWPqkleFGQpr"
      },
      "execution_count": null,
      "outputs": []
    },
    {
      "cell_type": "code",
      "source": [
        "def build_model(hp):\n",
        "  model = keras.Sequential([\n",
        "      keras.layers.Conv2D(\n",
        "          filters=hp.Int('conv_1_filter',min_value=64, max_value =128,step=16), #Find No of filters which we should use will be in between 64 and 128\n",
        "          kernel_size=hp.Choice('conv_1_kernel',values=[3,5]), #choose kernal_size\n",
        "          activation = 'relu',\n",
        "          input_shape=(28,28,1)\n",
        "      ),\n",
        "       keras.layers.Conv2D(\n",
        "          filters=hp.Int('conv_2_filter',min_value=32, max_value =64,step=16),\n",
        "          kernel_size=hp.Choice('conv_2_kernel',values=[3,5]),\n",
        "          activation = 'relu',\n",
        "      ),\n",
        "       keras.layers.Flatten(),\n",
        "       keras.layers.Dense(\n",
        "          units = hp.Int('dense_1_units',min_value=32,max_value=128,step=16), #selecting number of nodes between 32 and 128 which is performing well\n",
        "          activation = 'relu'\n",
        "      ),\n",
        "      keras.layers.Dense(10,activation='softmax')  #For multiclass classification and put in last layer\n",
        "\n",
        "  ])\n",
        "  model.compile(optimizer=keras.optimizers.Adam(hp.Choice('learning_rate', values=[1e-2, 1e-3])), #Selecting learning rate\n",
        "                loss='sparse_categorical_crossentropy', #Categorical cross-entropy is used when true labels are one-hot encoded, \n",
        "                metrics=['accuracy'])                   #for example, we have the following true values for 3-class classification problem [1,0,0] , [0,1,0] and [0,0,1].\n",
        "  return model"
      ],
      "metadata": {
        "id": "jsbKRMTOHyUY"
      },
      "execution_count": null,
      "outputs": []
    },
    {
      "cell_type": "code",
      "source": [
        "from keras_tuner import RandomSearch #This will find best parameters for particular problem statement\n",
        "from keras_tuner.engine.hyperparameters import HyperParameters\n"
      ],
      "metadata": {
        "id": "7pRBbzjTG6sT"
      },
      "execution_count": null,
      "outputs": []
    },
    {
      "cell_type": "code",
      "source": [
        "#Run random search\n",
        "#model, objective- name of model metric to minimize or maximize, number of trials\n",
        "tuner_search=RandomSearch(build_model,\n",
        "                          objective='val_accuracy',\n",
        "                          max_trials=5,directory='output',project_name=\"Mnist Fashion\") #max_trials only for 3 epochs\n"
      ],
      "metadata": {
        "id": "apNijCeeNkBP"
      },
      "execution_count": null,
      "outputs": []
    },
    {
      "cell_type": "code",
      "source": [
        "tuner_search.search(train_images,train_labels,epochs=3, validation_split=0.1)"
      ],
      "metadata": {
        "colab": {
          "base_uri": "https://localhost:8080/"
        },
        "id": "7tesj04yO6JP",
        "outputId": "a56028e9-bd89-43c9-f365-373b4efdc1a8"
      },
      "execution_count": null,
      "outputs": [
        {
          "output_type": "stream",
          "name": "stdout",
          "text": [
            "Trial 5 Complete [00h 16m 22s]\n",
            "val_accuracy: 0.8651666641235352\n",
            "\n",
            "Best val_accuracy So Far: 0.9100000262260437\n",
            "Total elapsed time: 01h 24m 17s\n",
            "INFO:tensorflow:Oracle triggered exit\n"
          ]
        }
      ]
    },
    {
      "cell_type": "code",
      "source": [
        "model =tuner_search.get_best_models(num_models=1)[0]"
      ],
      "metadata": {
        "id": "dO6akCv2wFzm"
      },
      "execution_count": null,
      "outputs": []
    },
    {
      "cell_type": "code",
      "source": [
        "model.summary()"
      ],
      "metadata": {
        "colab": {
          "base_uri": "https://localhost:8080/"
        },
        "id": "NuiZhDoRweqG",
        "outputId": "51a4449d-6eed-47fd-aa84-f6424fc089ad"
      },
      "execution_count": null,
      "outputs": [
        {
          "output_type": "stream",
          "name": "stdout",
          "text": [
            "Model: \"sequential\"\n",
            "_________________________________________________________________\n",
            " Layer (type)                Output Shape              Param #   \n",
            "=================================================================\n",
            " conv2d (Conv2D)             (None, 24, 24, 96)        2496      \n",
            "                                                                 \n",
            " conv2d_1 (Conv2D)           (None, 22, 22, 64)        55360     \n",
            "                                                                 \n",
            " flatten (Flatten)           (None, 30976)             0         \n",
            "                                                                 \n",
            " dense (Dense)               (None, 112)               3469424   \n",
            "                                                                 \n",
            " dense_1 (Dense)             (None, 10)                1130      \n",
            "                                                                 \n",
            "=================================================================\n",
            "Total params: 3,528,410\n",
            "Trainable params: 3,528,410\n",
            "Non-trainable params: 0\n",
            "_________________________________________________________________\n"
          ]
        }
      ]
    },
    {
      "cell_type": "code",
      "source": [
        "model.fit(train_images, train_labels,epochs=10,validation_split=0.1, initial_epoch=3)"
      ],
      "metadata": {
        "colab": {
          "base_uri": "https://localhost:8080/"
        },
        "id": "P7tTsCM5wzrm",
        "outputId": "5cd288c9-bf91-4057-822f-26175d58f9fc"
      },
      "execution_count": null,
      "outputs": [
        {
          "output_type": "stream",
          "name": "stdout",
          "text": [
            "Epoch 4/10\n",
            "1688/1688 [==============================] - 310s 183ms/step - loss: 0.1482 - accuracy: 0.9437 - val_loss: 0.2539 - val_accuracy: 0.9158\n",
            "Epoch 5/10\n",
            "1688/1688 [==============================] - 306s 181ms/step - loss: 0.1085 - accuracy: 0.9592 - val_loss: 0.2784 - val_accuracy: 0.9175\n",
            "Epoch 6/10\n",
            "1688/1688 [==============================] - 305s 181ms/step - loss: 0.0809 - accuracy: 0.9696 - val_loss: 0.3413 - val_accuracy: 0.9048\n",
            "Epoch 7/10\n",
            "1688/1688 [==============================] - 306s 181ms/step - loss: 0.0621 - accuracy: 0.9781 - val_loss: 0.3932 - val_accuracy: 0.9083\n",
            "Epoch 8/10\n",
            "1688/1688 [==============================] - 306s 181ms/step - loss: 0.0492 - accuracy: 0.9820 - val_loss: 0.4837 - val_accuracy: 0.9118\n",
            "Epoch 9/10\n",
            "1688/1688 [==============================] - 307s 182ms/step - loss: 0.0378 - accuracy: 0.9863 - val_loss: 0.5084 - val_accuracy: 0.9092\n",
            "Epoch 10/10\n",
            "1688/1688 [==============================] - 306s 181ms/step - loss: 0.0327 - accuracy: 0.9892 - val_loss: 0.4801 - val_accuracy: 0.9122\n"
          ]
        },
        {
          "output_type": "execute_result",
          "data": {
            "text/plain": [
              "<keras.callbacks.History at 0x7faf01c30e10>"
            ]
          },
          "metadata": {},
          "execution_count": 45
        }
      ]
    },
    {
      "cell_type": "code",
      "source": [
        "model.evaluate(test_images, test_labels)"
      ],
      "metadata": {
        "colab": {
          "base_uri": "https://localhost:8080/"
        },
        "id": "7NuSfV_kxVlv",
        "outputId": "ffc85238-73db-4102-802c-4a419c1d59fe"
      },
      "execution_count": null,
      "outputs": [
        {
          "output_type": "stream",
          "name": "stdout",
          "text": [
            "313/313 [==============================] - 14s 44ms/step - loss: 0.5245 - accuracy: 0.9082\n"
          ]
        },
        {
          "output_type": "execute_result",
          "data": {
            "text/plain": [
              "[0.5244717597961426, 0.9082000255584717]"
            ]
          },
          "metadata": {},
          "execution_count": 48
        }
      ]
    },
    {
      "cell_type": "code",
      "source": [
        "#predict first 10 images\n",
        "p = model.predict(test_images[:10])\n",
        "print(p)"
      ],
      "metadata": {
        "colab": {
          "base_uri": "https://localhost:8080/"
        },
        "id": "sWobWpRA6JTX",
        "outputId": "8d42ff60-d963-4508-b22c-ea2c73f1f674"
      },
      "execution_count": null,
      "outputs": [
        {
          "output_type": "stream",
          "name": "stdout",
          "text": [
            "[[2.58232682e-14 2.65996970e-20 2.95379904e-14 5.82169426e-18\n",
            "  7.96288809e-21 4.33858746e-14 1.30520547e-24 3.99490965e-08\n",
            "  4.04456888e-19 1.00000000e+00]\n",
            " [1.78420677e-07 5.12201544e-20 9.99330640e-01 1.06517256e-19\n",
            "  6.69252477e-04 2.99040361e-13 2.03808129e-12 1.45332431e-15\n",
            "  1.10214470e-14 1.54461594e-13]\n",
            " [1.74448516e-26 1.00000000e+00 6.39224838e-25 3.02093593e-25\n",
            "  1.63663279e-31 1.07751988e-21 1.43804788e-27 1.23961581e-38\n",
            "  4.61918357e-34 0.00000000e+00]\n",
            " [1.01380435e-30 1.00000000e+00 4.14941366e-28 6.26194286e-25\n",
            "  1.82527114e-26 2.66479587e-26 9.37586023e-26 0.00000000e+00\n",
            "  1.23073886e-38 0.00000000e+00]\n",
            " [3.04990611e-03 1.71993350e-10 1.92892207e-06 5.18464801e-14\n",
            "  1.17626557e-08 5.47768855e-14 9.96948183e-01 7.20472593e-17\n",
            "  9.90691971e-14 1.18444725e-15]\n",
            " [3.83748339e-25 1.00000000e+00 1.73245325e-21 3.19549310e-26\n",
            "  3.42001179e-24 3.38848525e-22 1.88095186e-24 0.00000000e+00\n",
            "  1.41340359e-30 5.34908717e-37]\n",
            " [8.23260849e-26 1.75822060e-19 1.78113480e-09 6.14169285e-25\n",
            "  1.00000000e+00 6.51226729e-30 7.46421967e-14 1.98022447e-34\n",
            "  1.75276056e-29 1.37295028e-25]\n",
            " [5.69309822e-10 4.15264004e-11 9.40967082e-10 4.44823429e-16\n",
            "  8.89150584e-08 4.91490570e-17 9.99999881e-01 5.16204000e-20\n",
            "  2.65312967e-12 1.35886745e-12]\n",
            " [4.76679802e-25 1.13794040e-28 1.33240896e-20 4.30529187e-18\n",
            "  9.82058292e-31 1.00000000e+00 1.22428160e-23 1.40013294e-22\n",
            "  1.67128547e-20 4.99094653e-27]\n",
            " [6.23526802e-18 6.90827835e-22 1.29994906e-23 4.97362821e-21\n",
            "  1.72487062e-20 1.13959325e-17 9.16843553e-23 1.00000000e+00\n",
            "  3.57196008e-20 8.96813064e-20]]\n"
          ]
        }
      ]
    },
    {
      "cell_type": "code",
      "source": [
        "pred = np.argmax(p, axis=1)\n",
        "print(pred)\n",
        "print(test_labels[:10])"
      ],
      "metadata": {
        "colab": {
          "base_uri": "https://localhost:8080/"
        },
        "id": "MOTt9QW26pcw",
        "outputId": "8b4fc56f-8ae6-47ba-a810-cc52fe3e6320"
      },
      "execution_count": null,
      "outputs": [
        {
          "output_type": "stream",
          "name": "stdout",
          "text": [
            "[9 2 1 1 6 1 4 6 5 7]\n",
            "[9 2 1 1 6 1 4 6 5 7]\n"
          ]
        }
      ]
    },
    {
      "cell_type": "code",
      "source": [
        "test_images[1].shape"
      ],
      "metadata": {
        "colab": {
          "base_uri": "https://localhost:8080/"
        },
        "id": "SzYlu650Nu9w",
        "outputId": "0725ba76-5c58-4669-d18f-0443180e15e1"
      },
      "execution_count": null,
      "outputs": [
        {
          "output_type": "execute_result",
          "data": {
            "text/plain": [
              "(28, 28, 1)"
            ]
          },
          "metadata": {},
          "execution_count": 64
        }
      ]
    },
    {
      "cell_type": "code",
      "source": [
        "#Visualizing the result\n",
        "for i in range(10):\n",
        "  plt.imshow(np.squeeze(test_images[i]), cmap=\"binary\")\n",
        "  plt.title('Original: {}, predicted: {}'.format(test_labels[i],pred[i]))\n",
        "  plt.axis(\"Off\")\n",
        "  plt.figure()\n"
      ],
      "metadata": {
        "colab": {
          "base_uri": "https://localhost:8080/",
          "height": 1000
        },
        "id": "IkDbX_dl64O-",
        "outputId": "202bb7d4-dfa4-4b0d-c07d-0df4bb0bac73"
      },
      "execution_count": null,
      "outputs": [
        {
          "output_type": "display_data",
          "data": {
            "image/png": "[encoded data removed]",
            "text/plain": [
              "<Figure size 432x288 with 1 Axes>"
            ]
          },
          "metadata": {
            "needs_background": "light"
          }
        },
        {
          "output_type": "display_data",
          "data": {
            "image/png": "[encoded data removed]",
            "text/plain": [
              "<Figure size 432x288 with 1 Axes>"
            ]
          },
          "metadata": {
            "needs_background": "light"
          }
        },
        {
          "output_type": "display_data",
          "data": {
            "image/png": "[encoded data removed]",
            "text/plain": [
              "<Figure size 432x288 with 1 Axes>"
            ]
          },
          "metadata": {
            "needs_background": "light"
          }
        },
        {
          "output_type": "display_data",
          "data": {
            "image/png": "[encoded data removed]",
            "text/plain": [
              "<Figure size 432x288 with 1 Axes>"
            ]
          },
          "metadata": {
            "needs_background": "light"
          }
        },
        {
          "output_type": "display_data",
          "data": {
            "image/png": "[encoded data removed]",
            "text/plain": [
              "<Figure size 432x288 with 1 Axes>"
            ]
          },
          "metadata": {
            "needs_background": "light"
          }
        },
        {
          "output_type": "display_data",
          "data": {
            "image/png": "[encoded data removed]",
            "text/plain": [
              "<Figure size 432x288 with 1 Axes>"
            ]
          },
          "metadata": {
            "needs_background": "light"
          }
        },
        {
          "output_type": "display_data",
          "data": {
            "image/png": "[encoded data removed]",
            "text/plain": [
              "<Figure size 432x288 with 1 Axes>"
            ]
          },
          "metadata": {
            "needs_background": "light"
          }
        },
        {
          "output_type": "display_data",
          "data": {
            "image/png": "[encoded data removed]",
            "text/plain": [
              "<Figure size 432x288 with 1 Axes>"
            ]
          },
          "metadata": {
            "needs_background": "light"
          }
        },
        {
          "output_type": "display_data",
          "data": {
            "image/png": "[encoded data removed]",
            "text/plain": [
              "<Figure size 432x288 with 1 Axes>"
            ]
          },
          "metadata": {
            "needs_background": "light"
          }
        },
        {
          "output_type": "display_data",
          "data": {
            "image/png": "[encoded data removed]",
            "text/plain": [
              "<Figure size 432x288 with 1 Axes>"
            ]
          },
          "metadata": {
            "needs_background": "light"
          }
        },
        {
          "output_type": "display_data",
          "data": {
            "text/plain": [
              "<Figure size 432x288 with 0 Axes>"
            ]
          },
          "metadata": {}
        }
      ]
    },
    {
      "cell_type": "code",
      "source": [
        ""
      ],
      "metadata": {
        "id": "vFFEIEKoKYYD"
      },
      "execution_count": null,
      "outputs": []
    }
  ]
}